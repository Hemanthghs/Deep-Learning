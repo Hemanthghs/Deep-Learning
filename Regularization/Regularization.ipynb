{
  "nbformat": 4,
  "nbformat_minor": 0,
  "metadata": {
    "colab": {
      "name": "Regularization_1.ipynb",
      "provenance": []
    },
    "kernelspec": {
      "name": "python3",
      "display_name": "Python 3"
    },
    "language_info": {
      "name": "python"
    }
  },
  "cells": [
    {
      "cell_type": "code",
      "metadata": {
        "id": "0wkkh-iF3-AC"
      },
      "source": [
        "import pandas as pd\n",
        "import numpy as np\n",
        "import tensorflow as tf\n",
        "from tensorflow import keras\n",
        "import matplotlib.pyplot as plt"
      ],
      "execution_count": null,
      "outputs": []
    },
    {
      "cell_type": "code",
      "metadata": {
        "id": "3LPKmxIp5ESx"
      },
      "source": [
        "data = pd.read_csv(\"titanic.csv\")"
      ],
      "execution_count": null,
      "outputs": []
    },
    {
      "cell_type": "code",
      "metadata": {
        "id": "vkbIfz525XTA"
      },
      "source": [
        "data.drop(['PassengerId','Name','SibSp','Parch','Ticket','Cabin','Embarked'],axis=1,inplace=True)"
      ],
      "execution_count": null,
      "outputs": []
    },
    {
      "cell_type": "code",
      "metadata": {
        "id": "Y1EtCYmp5YcR"
      },
      "source": [
        "X = data.iloc[:,1:]"
      ],
      "execution_count": null,
      "outputs": []
    },
    {
      "cell_type": "code",
      "metadata": {
        "id": "sWJwiG5d5z1A"
      },
      "source": [
        "y = data.iloc[:,:1]"
      ],
      "execution_count": null,
      "outputs": []
    },
    {
      "cell_type": "code",
      "metadata": {
        "id": "aWKzYbPp52Kq"
      },
      "source": [
        "gender = pd.get_dummies(X.Gender, drop_first=True)"
      ],
      "execution_count": null,
      "outputs": []
    },
    {
      "cell_type": "code",
      "metadata": {
        "id": "SkMfXKVt57eL"
      },
      "source": [
        "X =pd.concat([X,gender],axis=1)"
      ],
      "execution_count": null,
      "outputs": []
    },
    {
      "cell_type": "code",
      "metadata": {
        "id": "AXfwGGuC6AFA"
      },
      "source": [
        "X.drop(['Gender'],axis=1,inplace=True)"
      ],
      "execution_count": null,
      "outputs": []
    },
    {
      "cell_type": "code",
      "metadata": {
        "id": "xX3ffYQT6D4t"
      },
      "source": [
        "meanAge = X.Age.mean()"
      ],
      "execution_count": null,
      "outputs": []
    },
    {
      "cell_type": "code",
      "metadata": {
        "colab": {
          "base_uri": "https://localhost:8080/"
        },
        "id": "G9UsP9-96JLN",
        "outputId": "dfa39b8f-0cbc-4964-9a6a-b87b001f9c2d"
      },
      "source": [
        "meanAge"
      ],
      "execution_count": null,
      "outputs": [
        {
          "output_type": "execute_result",
          "data": {
            "text/plain": [
              "29.69911764705882"
            ]
          },
          "metadata": {
            "tags": []
          },
          "execution_count": 12
        }
      ]
    },
    {
      "cell_type": "code",
      "metadata": {
        "id": "5AEqPlni6HBP"
      },
      "source": [
        "X.Age = X.Age.fillna(29)"
      ],
      "execution_count": null,
      "outputs": []
    },
    {
      "cell_type": "code",
      "metadata": {
        "colab": {
          "base_uri": "https://localhost:8080/"
        },
        "id": "1AyPPISw6LVB",
        "outputId": "b908bc7b-9206-49aa-8343-28a2181c17aa"
      },
      "source": [
        "X.isnull().sum()"
      ],
      "execution_count": null,
      "outputs": [
        {
          "output_type": "execute_result",
          "data": {
            "text/plain": [
              "Pclass    0\n",
              "Age       0\n",
              "Fare      0\n",
              "male      0\n",
              "dtype: int64"
            ]
          },
          "metadata": {
            "tags": []
          },
          "execution_count": 14
        }
      ]
    },
    {
      "cell_type": "code",
      "metadata": {
        "id": "y_-_iwMP6M7f"
      },
      "source": [
        "from sklearn.model_selection import train_test_split\n",
        "X_train, X_test, y_train, y_test = train_test_split(X,y,test_size=0.2, random_state=45)"
      ],
      "execution_count": null,
      "outputs": []
    },
    {
      "cell_type": "code",
      "metadata": {
        "id": "6GaR97lI7Ghi"
      },
      "source": [
        "from sklearn.preprocessing import StandardScaler\n",
        "scaler = StandardScaler()\n",
        "X_train=scaler.fit_transform(X_train)\n",
        "X_test=scaler.transform(X_test)"
      ],
      "execution_count": null,
      "outputs": []
    },
    {
      "cell_type": "code",
      "metadata": {
        "colab": {
          "base_uri": "https://localhost:8080/"
        },
        "id": "ooTx23n46dmX",
        "outputId": "673a126c-2dc2-4b91-f9a2-122f1cdb0518"
      },
      "source": [
        "X.shape"
      ],
      "execution_count": null,
      "outputs": [
        {
          "output_type": "execute_result",
          "data": {
            "text/plain": [
              "(891, 4)"
            ]
          },
          "metadata": {
            "tags": []
          },
          "execution_count": 16
        }
      ]
    },
    {
      "cell_type": "code",
      "metadata": {
        "id": "cFUnmqdx7jhK"
      },
      "source": [
        "\n",
        "model = keras.Sequential([\n",
        "    keras.layers.Dense(8, input_dim=4, activation='relu'),\n",
        "    keras.layers.Dropout(0.2),\n",
        "    keras.layers.Dense(6, activation='relu'),\n",
        "    keras.layers.Dropout(0.2),\n",
        "    keras.layers.Dense(3, activation='relu'),\n",
        "    keras.layers.Dropout(0.2),\n",
        "    keras.layers.Dense(1, activation='sigmoid')\n",
        "])"
      ],
      "execution_count": null,
      "outputs": []
    },
    {
      "cell_type": "code",
      "metadata": {
        "colab": {
          "base_uri": "https://localhost:8080/"
        },
        "id": "gW-Pe6uO72Cj",
        "outputId": "147e5802-7ab6-4b9b-9a1e-dcaee4c1d5dd"
      },
      "source": [
        "\n",
        "\n",
        "model.compile(loss='binary_crossentropy', optimizer='adam', metrics=['accuracy'])\n",
        "\n",
        "model.fit(X_train, y_train, epochs=50, batch_size=4)"
      ],
      "execution_count": null,
      "outputs": [
        {
          "output_type": "stream",
          "text": [
            "Epoch 1/50\n",
            "178/178 [==============================] - 1s 1ms/step - loss: 0.7070 - accuracy: 0.4446\n",
            "Epoch 2/50\n",
            "178/178 [==============================] - 0s 1ms/step - loss: 0.6758 - accuracy: 0.6704\n",
            "Epoch 3/50\n",
            "178/178 [==============================] - 0s 1ms/step - loss: 0.6540 - accuracy: 0.7261\n",
            "Epoch 4/50\n",
            "178/178 [==============================] - 0s 1ms/step - loss: 0.6192 - accuracy: 0.7287\n",
            "Epoch 5/50\n",
            "178/178 [==============================] - 0s 998us/step - loss: 0.6129 - accuracy: 0.7539\n",
            "Epoch 6/50\n",
            "178/178 [==============================] - 0s 1ms/step - loss: 0.6031 - accuracy: 0.7311\n",
            "Epoch 7/50\n",
            "178/178 [==============================] - 0s 1ms/step - loss: 0.6049 - accuracy: 0.7078\n",
            "Epoch 8/50\n",
            "178/178 [==============================] - 0s 1ms/step - loss: 0.5685 - accuracy: 0.7319\n",
            "Epoch 9/50\n",
            "178/178 [==============================] - 0s 1ms/step - loss: 0.5779 - accuracy: 0.7353\n",
            "Epoch 10/50\n",
            "178/178 [==============================] - 0s 1ms/step - loss: 0.5799 - accuracy: 0.7231\n",
            "Epoch 11/50\n",
            "178/178 [==============================] - 0s 1ms/step - loss: 0.5843 - accuracy: 0.7093\n",
            "Epoch 12/50\n",
            "178/178 [==============================] - 0s 1ms/step - loss: 0.5739 - accuracy: 0.7354\n",
            "Epoch 13/50\n",
            "178/178 [==============================] - 0s 1ms/step - loss: 0.5661 - accuracy: 0.7381\n",
            "Epoch 14/50\n",
            "178/178 [==============================] - 0s 1ms/step - loss: 0.6001 - accuracy: 0.7189\n",
            "Epoch 15/50\n",
            "178/178 [==============================] - 0s 1ms/step - loss: 0.5662 - accuracy: 0.7154\n",
            "Epoch 16/50\n",
            "178/178 [==============================] - 0s 1ms/step - loss: 0.5269 - accuracy: 0.7553\n",
            "Epoch 17/50\n",
            "178/178 [==============================] - 0s 1ms/step - loss: 0.5232 - accuracy: 0.7564\n",
            "Epoch 18/50\n",
            "178/178 [==============================] - 0s 1ms/step - loss: 0.5762 - accuracy: 0.7049\n",
            "Epoch 19/50\n",
            "178/178 [==============================] - 0s 1ms/step - loss: 0.5849 - accuracy: 0.7102\n",
            "Epoch 20/50\n",
            "178/178 [==============================] - 0s 1ms/step - loss: 0.5378 - accuracy: 0.7370\n",
            "Epoch 21/50\n",
            "178/178 [==============================] - 0s 1ms/step - loss: 0.5227 - accuracy: 0.7544\n",
            "Epoch 22/50\n",
            "178/178 [==============================] - 0s 1ms/step - loss: 0.5354 - accuracy: 0.7489\n",
            "Epoch 23/50\n",
            "178/178 [==============================] - 0s 1ms/step - loss: 0.4770 - accuracy: 0.7844\n",
            "Epoch 24/50\n",
            "178/178 [==============================] - 0s 1ms/step - loss: 0.5181 - accuracy: 0.7657\n",
            "Epoch 25/50\n",
            "178/178 [==============================] - 0s 1ms/step - loss: 0.5031 - accuracy: 0.7756\n",
            "Epoch 26/50\n",
            "178/178 [==============================] - 0s 1ms/step - loss: 0.4773 - accuracy: 0.7717\n",
            "Epoch 27/50\n",
            "178/178 [==============================] - 0s 1ms/step - loss: 0.5073 - accuracy: 0.7621\n",
            "Epoch 28/50\n",
            "178/178 [==============================] - 0s 1ms/step - loss: 0.5141 - accuracy: 0.7532\n",
            "Epoch 29/50\n",
            "178/178 [==============================] - 0s 1ms/step - loss: 0.4898 - accuracy: 0.7652\n",
            "Epoch 30/50\n",
            "178/178 [==============================] - 0s 1ms/step - loss: 0.5053 - accuracy: 0.7704\n",
            "Epoch 31/50\n",
            "178/178 [==============================] - 0s 1ms/step - loss: 0.5088 - accuracy: 0.7613\n",
            "Epoch 32/50\n",
            "178/178 [==============================] - 0s 1ms/step - loss: 0.4878 - accuracy: 0.7714\n",
            "Epoch 33/50\n",
            "178/178 [==============================] - 0s 1ms/step - loss: 0.4839 - accuracy: 0.7794\n",
            "Epoch 34/50\n",
            "178/178 [==============================] - 0s 1ms/step - loss: 0.4930 - accuracy: 0.7567\n",
            "Epoch 35/50\n",
            "178/178 [==============================] - 0s 1ms/step - loss: 0.4926 - accuracy: 0.7660\n",
            "Epoch 36/50\n",
            "178/178 [==============================] - 0s 1ms/step - loss: 0.5140 - accuracy: 0.7590\n",
            "Epoch 37/50\n",
            "178/178 [==============================] - 0s 1ms/step - loss: 0.4936 - accuracy: 0.7595\n",
            "Epoch 38/50\n",
            "178/178 [==============================] - 0s 1ms/step - loss: 0.5181 - accuracy: 0.7724\n",
            "Epoch 39/50\n",
            "178/178 [==============================] - 0s 1ms/step - loss: 0.5291 - accuracy: 0.7626\n",
            "Epoch 40/50\n",
            "178/178 [==============================] - 0s 1ms/step - loss: 0.4794 - accuracy: 0.7876\n",
            "Epoch 41/50\n",
            "178/178 [==============================] - 0s 1ms/step - loss: 0.4768 - accuracy: 0.7760\n",
            "Epoch 42/50\n",
            "178/178 [==============================] - 0s 1ms/step - loss: 0.5319 - accuracy: 0.7281\n",
            "Epoch 43/50\n",
            "178/178 [==============================] - 0s 1ms/step - loss: 0.5260 - accuracy: 0.7532\n",
            "Epoch 44/50\n",
            "178/178 [==============================] - 0s 1ms/step - loss: 0.4520 - accuracy: 0.7969\n",
            "Epoch 45/50\n",
            "178/178 [==============================] - 0s 1ms/step - loss: 0.4951 - accuracy: 0.7687\n",
            "Epoch 46/50\n",
            "178/178 [==============================] - 0s 1ms/step - loss: 0.4888 - accuracy: 0.7676\n",
            "Epoch 47/50\n",
            "178/178 [==============================] - 0s 1ms/step - loss: 0.4797 - accuracy: 0.7781\n",
            "Epoch 48/50\n",
            "178/178 [==============================] - 0s 1ms/step - loss: 0.4801 - accuracy: 0.7833\n",
            "Epoch 49/50\n",
            "178/178 [==============================] - 0s 1ms/step - loss: 0.4490 - accuracy: 0.7885\n",
            "Epoch 50/50\n",
            "178/178 [==============================] - 0s 1ms/step - loss: 0.4985 - accuracy: 0.7594\n"
          ],
          "name": "stdout"
        },
        {
          "output_type": "execute_result",
          "data": {
            "text/plain": [
              "<tensorflow.python.keras.callbacks.History at 0x7f0787ba1b90>"
            ]
          },
          "metadata": {
            "tags": []
          },
          "execution_count": 32
        }
      ]
    },
    {
      "cell_type": "code",
      "metadata": {
        "colab": {
          "base_uri": "https://localhost:8080/"
        },
        "id": "7x7_00ZO74RX",
        "outputId": "d0768f39-1447-4579-ec8f-617fdb27e4a1"
      },
      "source": [
        "model.evaluate(X_test, y_test)"
      ],
      "execution_count": null,
      "outputs": [
        {
          "output_type": "stream",
          "text": [
            "6/6 [==============================] - 0s 3ms/step - loss: 0.3790 - accuracy: 0.8715\n"
          ],
          "name": "stdout"
        },
        {
          "output_type": "execute_result",
          "data": {
            "text/plain": [
              "[0.37895116209983826, 0.8715083599090576]"
            ]
          },
          "metadata": {
            "tags": []
          },
          "execution_count": 33
        }
      ]
    }
  ]
}